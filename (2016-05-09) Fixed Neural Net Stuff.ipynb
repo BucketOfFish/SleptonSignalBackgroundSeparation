{
 "cells": [
  {
   "cell_type": "code",
   "execution_count": 1,
   "metadata": {
    "collapsed": false
   },
   "outputs": [
    {
     "name": "stderr",
     "output_type": "stream",
     "text": [
      "/Users/mattzhang/py2_kernel/lib/python2.7/site-packages/matplotlib/font_manager.py:273: UserWarning: Matplotlib is building the font cache using fc-list. This may take a moment.\n",
      "  warnings.warn('Matplotlib is building the font cache using fc-list. This may take a moment.')\n"
     ]
    }
   ],
   "source": [
    "%matplotlib inline\n",
    "\n",
    "import warnings\n",
    "warnings.filterwarnings('ignore')\n",
    "\n",
    "import matplotlib.pyplot as plt\n",
    "import matplotlib.patches as mpatches\n",
    "import numpy as np\n",
    "from root_numpy import root2array\n",
    "\n",
    "from sklearn import preprocessing, datasets\n",
    "from sklearn.cross_validation import train_test_split\n",
    "from sklearn.decomposition import PCA\n",
    "from sklearn.discriminant_analysis import LinearDiscriminantAnalysis\n",
    "from sknn.mlp import Regressor, Layer\n",
    "from sklearn.metrics import accuracy_score, precision_score, recall_score, precision_recall_curve\n",
    "\n",
    "import pickle"
   ]
  },
  {
   "cell_type": "markdown",
   "metadata": {},
   "source": [
    "First we define our input branches.\n",
    "\n",
    "We import 80 kinematic branches. Jon suggests either narrowing this down *manually*, or printing out PCA or other diagnostics so we can see which branches are important). The goal here is to convince the old people that machine learning is not a black box."
   ]
  },
  {
   "cell_type": "code",
   "execution_count": 2,
   "metadata": {
    "collapsed": false
   },
   "outputs": [],
   "source": [
    "importBranches = ['lep_pT[0]','lep_pT[1]','lep_pT[2]','lep_pT[3]','lep_pT[4]',\n",
    "            'lep_eta[0]','lep_eta[1]','lep_eta[2]','lep_eta[3]','lep_eta[4]',\n",
    "            'lep_phi[0]','lep_phi[1]','lep_phi[2]','lep_phi[3]','lep_phi[4]',\n",
    "            'lep_m[0]','lep_m[1]','lep_m[2]','lep_m[3]','lep_m[4]',\n",
    "            'lep_E[0]','lep_E[1]','lep_E[2]','lep_E[3]','lep_E[4]',\n",
    "            'jet_pT[0]','jet_pT[1]','jet_pT[2]','jet_pT[3]','jet_pT[4]',\n",
    "            'jet_eta[0]','jet_eta[1]','jet_eta[2]','jet_eta[3]','jet_eta[4]',\n",
    "            'jet_phi[0]','jet_phi[1]','jet_phi[2]','jet_phi[3]','jet_phi[4]',\n",
    "            'jet_m[0]','jet_m[1]','jet_m[2]','jet_m[3]','jet_m[4]',\n",
    "            'jet_E[0]','jet_E[1]','jet_E[2]','jet_E[3]','jet_E[4]',\n",
    "            'Z_pt[0]','Z_pt[1]','Z_pt[2]','Z_pt[3]','Z_pt[4]',\n",
    "            'Z_phi[0]','Z_phi[1]','Z_phi[2]','Z_phi[3]','Z_phi[4]',\n",
    "            'Z_eta[0]','Z_eta[1]','Z_eta[2]','Z_eta[3]','Z_eta[4]',\n",
    "            'nVtx','MT2Top','MT2W','lep_n','jet_n','bjet_n','mu_n','el_n',\n",
    "            'mll','HT','VecHT','HTincl','VecHTincl','MET','MET_phi']"
   ]
  },
  {
   "cell_type": "markdown",
   "metadata": {},
   "source": [
    "Here is a function for importing samples. The stuff is all imported in structured array form, which is a pain in the ass, so we change this to a normal array. Each row is an event, and each column is a feature."
   ]
  },
  {
   "cell_type": "code",
   "execution_count": 3,
   "metadata": {
    "collapsed": true
   },
   "outputs": [],
   "source": [
    "def importSample(ID, branches=importBranches):\n",
    "    \n",
    "    fileName = '../Data/SleptonSignalBackground/%d.root' % ID\n",
    "    array = root2array(fileName, 'outputTree', branches=branches)\n",
    "    array = array.view((float, len(array.dtype.names)))\n",
    "    return array"
   ]
  },
  {
   "cell_type": "markdown",
   "metadata": {},
   "source": [
    "We import ttbar for the background, three slepton models for training and validation, and an additional three for testing the generality of our algorithm."
   ]
  },
  {
   "cell_type": "code",
   "execution_count": 4,
   "metadata": {
    "collapsed": false
   },
   "outputs": [],
   "source": [
    "ttbar = importSample(410000)\n",
    "\n",
    "s1200_500 = importSample(372462)\n",
    "s1400_100 = importSample(372466)\n",
    "s1000_800 = importSample(372498)\n",
    "\n",
    "s800_100 = importSample(372453)\n",
    "s1200_700 = importSample(372463)\n",
    "s1600_900 = importSample(372476)"
   ]
  },
  {
   "cell_type": "code",
   "execution_count": 8,
   "metadata": {
    "collapsed": false
   },
   "outputs": [
    {
     "data": {
      "text/plain": [
       "(13223, 80)"
      ]
     },
     "execution_count": 8,
     "metadata": {},
     "output_type": "execute_result"
    }
   ],
   "source": [
    "s1600_900.shape"
   ]
  },
  {
   "cell_type": "markdown",
   "metadata": {},
   "source": [
    "We define our signal regions. These are used to fill new branches, where each selection acts as a boolean filter, which is filled with either a 0 or a 1 based on whether or not an event passes.\n",
    "\n",
    "For instance, sum(ttbar_SR[:,2])=570 is the number of events in ttbar which pass SR High."
   ]
  },
  {
   "cell_type": "code",
   "execution_count": 37,
   "metadata": {
    "collapsed": false
   },
   "outputs": [],
   "source": [
    "trigger = \"((channel==1 && eetrig && eetrig_match)\"\\\n",
    "        \"|| (channel==0 && mmtrig && mmtrig_match)\"\\\n",
    "        \"|| (channel>=2 && emtrig && emtrig_match))\"\n",
    "lepReq = \"((lep_n>=2 && lep_pT[0]>25 && lep_pT[1]>25) && (lep_pdgId[0] == -lep_pdgId[1]))\"\n",
    "jetReq = \"(jet_n>=2 && jet_pT[0]>30 && jet_pT[1]>30)\"\n",
    "dPhiJetMET = \"(DPhi_METJetLeading>0.4 && DPhi_METJetSecond>0.4)\"\n",
    "\n",
    "EdgeSR = trigger + \" && \" + lepReq + \" && \" + jetReq + \" && \" + dPhiJetMET + \" && mll>12\"\n",
    "EdgeSRLow = EdgeSR + \" && MET>200\";\n",
    "EdgeSRMed = EdgeSR + \" && MET>250 && HT>400\";\n",
    "EdgeSRHigh = EdgeSR + \" && MET>200 && HT>700\";\n",
    "\n",
    "SRbranches = [EdgeSRLow, EdgeSRMed, EdgeSRHigh]\n",
    "\n",
    "ttbar_SR = importSample(410000, SRbranches)\n",
    "\n",
    "s1200_500_SR = importSample(372462, SRbranches)\n",
    "s1400_100_SR = importSample(372466, SRbranches)\n",
    "s1000_800_SR = importSample(372498, SRbranches)\n",
    "\n",
    "s800_100_SR = importSample(372453, SRbranches)\n",
    "s1200_700_SR = importSample(372463, SRbranches)\n",
    "s1600_900_SR = importSample(372476, SRbranches)"
   ]
  },
  {
   "cell_type": "markdown",
   "metadata": {},
   "source": [
    "Three arrays here: X, process, and region.\n",
    "\n",
    "X is all the ttbar and slepton data (for first three slepton models), with ttbar stacked on top of the sleptons.  \n",
    "process is 0 for ttbar, 1 for (1200,500), etc., and will later be altered into a 0/1 (ttbar/slepton) array for training.  \n",
    "region is 0 for inclusive, 1 for SR Low, etc.  \n",
    "\n",
    "process and region are row vectors, but it doesn't matter. X is scaled so that each feature has mean 0 and sigma 1."
   ]
  },
  {
   "cell_type": "code",
   "execution_count": 38,
   "metadata": {
    "collapsed": true
   },
   "outputs": [],
   "source": [
    "X = np.concatenate((ttbar, s1200_500, s1400_100, s1000_800), axis=0)\n",
    "\n",
    "type0 = np.zeros(ttbar.shape[0])\n",
    "type1 = np.ones(s1200_500.shape[0])\n",
    "type2 = np.ones(s1400_100.shape[0])*2\n",
    "type3 = np.ones(s1000_800.shape[0])*3\n",
    "process = np.concatenate((type0, type1, type2, type3))\n",
    "\n",
    "region = np.concatenate((ttbar_SR, s1200_500_SR, s1400_100_SR, s1000_800_SR), axis=0)\n",
    "region = region.sum(axis=1)\n",
    "\n",
    "X = preprocessing.scale(X)"
   ]
  },
  {
   "cell_type": "markdown",
   "metadata": {},
   "source": [
    "We also create arrays X2, process2, and region2. These contain data for slepton models that we did not explicitly train for. Note that we have to include ttbar in the mix because if we don't, the scaling will be all messed up and our neural net will train horribly."
   ]
  },
  {
   "cell_type": "code",
   "execution_count": 39,
   "metadata": {
    "collapsed": true
   },
   "outputs": [],
   "source": [
    "X2 = np.concatenate((ttbar, s800_100, s1200_700, s1600_900), axis=0)\n",
    "\n",
    "type4 = np.ones(s800_100.shape[0])*4\n",
    "type5 = np.ones(s1200_700.shape[0])*5\n",
    "type6 = np.ones(s1600_900.shape[0])*6\n",
    "process2 = np.concatenate((type0, type4, type5, type6))\n",
    "\n",
    "region2 = np.concatenate((ttbar_SR, s800_100_SR, s1200_700_SR, s1600_900_SR), axis=0)\n",
    "region2 = region2.sum(axis=1)\n",
    "\n",
    "X2 = preprocessing.scale(X2)"
   ]
  },
  {
   "cell_type": "markdown",
   "metadata": {},
   "source": [
    "After scaling, we reduce the dimensionality of X and X2."
   ]
  },
  {
   "cell_type": "code",
   "execution_count": 40,
   "metadata": {
    "collapsed": false
   },
   "outputs": [],
   "source": [
    "#pca = PCA(0.95) #retain 95% variance\n",
    "#pca.fit(X)\n",
    "\n",
    "#X = pca.transform(X)\n",
    "#X2 = pca.transform(X2)\n",
    "\n",
    "#print('retained variance: %f' % sum(pca.explained_variance_ratio_))\n",
    "#print('%d components' % pca.n_components_)"
   ]
  },
  {
   "cell_type": "markdown",
   "metadata": {},
   "source": [
    "We shuffle the events around in X, signalType, and process together so that their relationship is maintained. The same for the second set of arrays."
   ]
  },
  {
   "cell_type": "code",
   "execution_count": 41,
   "metadata": {
    "collapsed": false
   },
   "outputs": [],
   "source": [
    "def shuffle_in_unison(a, b, c):\n",
    "    \n",
    "    rng_state = np.random.get_state()\n",
    "    np.random.shuffle(a)\n",
    "    np.random.set_state(rng_state)\n",
    "    np.random.shuffle(b)\n",
    "    np.random.set_state(rng_state)\n",
    "    np.random.shuffle(c)\n",
    "\n",
    "shuffle_in_unison(X, process, region)\n",
    "shuffle_in_unison(X2, process2, region2)"
   ]
  },
  {
   "cell_type": "markdown",
   "metadata": {},
   "source": [
    "Recap:  \n",
    "X[i] is data for event i, (with the list of events having been shuffled). This is a list of n parameters, where n is the number of branches we imported.  \n",
    "process[i] states what kind of event it is, with 0 being ttbar.  \n",
    "region[i] is a 3-tuple stating whether the event passes SR Low, Med, and High.\n",
    "\n",
    "The second set of arrays is the same deal, but it contains only a booster pack of new signal events.\n",
    "\n",
    "Now we split the arrays into training (60%), validation (20%), and test (20%) sets. The second set of arrays does not need to be split, as it is all test data.\n",
    "\n",
    "We also create the training data, y, based on whether the process is ttbar or signal."
   ]
  },
  {
   "cell_type": "code",
   "execution_count": 42,
   "metadata": {
    "collapsed": false
   },
   "outputs": [],
   "source": [
    "index = np.arange(process.size)\n",
    "\n",
    "y = 1*(process>0)\n",
    "X_dev, X_test, index_dev, index_test = train_test_split(X, index, test_size=0.2)\n",
    "X_train, X_val, index_train, index_val = train_test_split(X_dev, index_dev, test_size=0.25)\n",
    "\n",
    "region_train = region[index_train]\n",
    "region_val = region[index_val]\n",
    "region_test = region[index_test]\n",
    "process_train = process[index_train]\n",
    "process_val = process[index_val]\n",
    "process_test = process[index_test]\n",
    "y_train = y[index_train]\n",
    "y_val = y[index_val]\n",
    "y_test = y[index_test]\n",
    "\n",
    "y2 = 1*(process2>0)"
   ]
  },
  {
   "cell_type": "markdown",
   "metadata": {},
   "source": [
    "Neural net training with default parameters, as optimized from before. Save the resulting neural net."
   ]
  },
  {
   "cell_type": "code",
   "execution_count": 43,
   "metadata": {
    "collapsed": false
   },
   "outputs": [],
   "source": [
    "def trainNN(learning_rate=0.02, n_iter=20, m=X_train.shape[0], neurons=7, weight=1):\n",
    "    \n",
    "    nn = Regressor(layers=[Layer(\"Tanh\", units=neurons),\n",
    "                   Layer(\"Tanh\", units=neurons), Layer(\"Tanh\")],\n",
    "                   learning_rate=learning_rate, n_iter=n_iter)\n",
    "    if weight != 1:\n",
    "        weight_train = np.ones(m)\n",
    "        weight_train[y_train[0:m-1] == 1] = weight #weigh signal events\n",
    "        nn.fit(X_train[0:m-1][:], y_train[0:m-1][:], weight_train)\n",
    "    else:\n",
    "        nn.fit(X_train[0:m-1][:], y_train[0:m-1][:])\n",
    "    return nn"
   ]
  },
  {
   "cell_type": "code",
   "execution_count": 45,
   "metadata": {
    "collapsed": false
   },
   "outputs": [],
   "source": [
    "#nn = trainNN()\n",
    "#pickle.dump(nn, open('trainedNN_PCAReduced.pkl', 'wb'))\n",
    "#nn=pickle.load(open('trainedNN.pkl','rb'))\n",
    "nn=pickle.load(open('trainedNN_20160506.pkl','rb'))"
   ]
  },
  {
   "cell_type": "markdown",
   "metadata": {},
   "source": [
    "Draw a precision-recall curve and use that to set the threshold for the working point we want."
   ]
  },
  {
   "cell_type": "code",
   "execution_count": 46,
   "metadata": {
    "collapsed": false
   },
   "outputs": [
    {
     "data": {
      "image/png": "[encoded data removed]",
      "text/plain": [
       "<matplotlib.figure.Figure at 0x134326ad0>"
      ]
     },
     "metadata": {},
     "output_type": "display_data"
    }
   ],
   "source": [
    "valRawPredictions = nn.predict(X_val)\n",
    "precisions, recalls, thresholds = precision_recall_curve(y_val, valRawPredictions)\n",
    "plt.plot(precisions,recalls,'r-')\n",
    "plt.xlabel(\"Precision\")\n",
    "plt.ylabel(\"Recall\")\n",
    "valLine = mpatches.Patch(color='red', label='validation')\n",
    "plt.legend(handles=[valLine], loc='lower right')\n",
    "plt.show()"
   ]
  },
  {
   "cell_type": "code",
   "execution_count": 47,
   "metadata": {
    "collapsed": true
   },
   "outputs": [],
   "source": [
    "threshold = 0.5"
   ]
  },
  {
   "cell_type": "markdown",
   "metadata": {},
   "source": [
    "Print total accuracy, precision, and recall on the test set."
   ]
  },
  {
   "cell_type": "code",
   "execution_count": 48,
   "metadata": {
    "collapsed": false
   },
   "outputs": [
    {
     "name": "stdout",
     "output_type": "stream",
     "text": [
      "Accuracy: 0.99, Precision: 0.96, Recall: 0.84\n"
     ]
    }
   ],
   "source": [
    "prediction = np.round(nn.predict(X_test) - (threshold-0.5))\n",
    "testAccuracy = accuracy_score(y_test, prediction)\n",
    "testPrecision = precision_score(y_test, prediction)\n",
    "testRecall = recall_score(y_test, prediction)\n",
    "\n",
    "print(\"Accuracy: %.2f, Precision: %.2f, Recall: %.2f\"\n",
    "      % (testAccuracy, testPrecision, testRecall))"
   ]
  },
  {
   "cell_type": "markdown",
   "metadata": {},
   "source": [
    "Now do it for each signal type, and again for each region, then again on additional signal samples. \"SR\" stands for signal region, but whatever, let's use it for the signal models too."
   ]
  },
  {
   "cell_type": "code",
   "execution_count": 49,
   "metadata": {
    "collapsed": false
   },
   "outputs": [
    {
     "name": "stdout",
     "output_type": "stream",
     "text": [
      "Region SR Low:\n",
      "Accuracy: 0.99, Precision: 0.94, Recall: 0.72\n",
      "Region SR Med:\n",
      "Accuracy: 0.92, Precision: 0.94, Recall: 0.86\n",
      "Region SR High:\n",
      "Accuracy: 0.94, Precision: 0.98, Recall: 0.95\n",
      "Process (1200,500):\n",
      "Accuracy: 0.93, Precision: 1.00, Recall: 0.93\n",
      "Process (1400,100):\n",
      "Accuracy: 0.98, Precision: 1.00, Recall: 0.98\n",
      "Process (1000,800):\n",
      "Accuracy: 0.49, Precision: 1.00, Recall: 0.49\n",
      "\n",
      "Testing completely new signal models:\n",
      "\n",
      "Region SR Low:\n",
      "Accuracy: 0.99, Precision: 0.90, Recall: 0.85\n",
      "Region SR Med:\n",
      "Accuracy: 0.92, Precision: 0.95, Recall: 0.92\n",
      "Region SR High:\n",
      "Accuracy: 0.96, Precision: 0.98, Recall: 0.98\n",
      "Process (800,100):\n",
      "Accuracy: 0.91, Precision: 1.00, Recall: 0.91\n",
      "Process (1200,700):\n",
      "Accuracy: 0.85, Precision: 1.00, Recall: 0.85\n",
      "Process (1600,900):\n",
      "Accuracy: 0.95, Precision: 1.00, Recall: 0.95\n"
     ]
    }
   ],
   "source": [
    "regionName = [\"SR Low\", \"SR Med\", \"SR High\"]\n",
    "processName = [\"ttbar\", \"(1200,500)\", \"(1400,100)\", \"(1000,800)\",\n",
    "               \"(800,100)\", \"(1200,700)\", \"(1600,900)\"]\n",
    "\n",
    "for i in range(0,3):\n",
    "    print(\"Region %s:\" % regionName[i])\n",
    "    X_SR = X_test[region_test==i]\n",
    "    y_SR = y_test[region_test==i]\n",
    "    prediction = np.round(nn.predict(X_SR) - (threshold-0.5))\n",
    "    testAccuracy = accuracy_score(y_SR, prediction)\n",
    "    testPrecision = precision_score(y_SR, prediction)\n",
    "    testRecall = recall_score(y_SR, prediction)\n",
    "    print(\"Accuracy: %.2f, Precision: %.2f, Recall: %.2f\"\n",
    "          % (testAccuracy, testPrecision, testRecall))\n",
    "    \n",
    "for i in range(1,4):\n",
    "    print(\"Process %s:\" % processName[i])\n",
    "    X_SR = X_test[process_test==i]\n",
    "    y_SR = y_test[process_test==i]\n",
    "    prediction = np.round(nn.predict(X_SR) - (threshold-0.5))\n",
    "    testAccuracy = accuracy_score(y_SR, prediction)\n",
    "    testPrecision = precision_score(y_SR, prediction)\n",
    "    testRecall = recall_score(y_SR, prediction)\n",
    "    print(\"Accuracy: %.2f, Precision: %.2f, Recall: %.2f\"\n",
    "          % (testAccuracy, testPrecision, testRecall))\n",
    "\n",
    "print(\"\\nTesting completely new signal models:\\n\")\n",
    "    \n",
    "for i in range(0,3):\n",
    "    print(\"Region %s:\" % regionName[i])\n",
    "    X_SR = X2[region2==i]\n",
    "    y_SR = y2[region2==i]\n",
    "    prediction = np.round(nn.predict(X_SR) - (threshold-0.5))\n",
    "    testAccuracy = accuracy_score(y_SR, prediction)\n",
    "    testPrecision = precision_score(y_SR, prediction)\n",
    "    testRecall = recall_score(y_SR, prediction)\n",
    "    print(\"Accuracy: %.2f, Precision: %.2f, Recall: %.2f\"\n",
    "          % (testAccuracy, testPrecision, testRecall))\n",
    "    \n",
    "for i in range(4,7):\n",
    "    print(\"Process %s:\" % processName[i])\n",
    "    X_SR = X2[process2==i]\n",
    "    y_SR = y2[process2==i]\n",
    "    prediction = np.round(nn.predict(X_SR) - (threshold-0.5))\n",
    "    testAccuracy = accuracy_score(y_SR, prediction)\n",
    "    testPrecision = precision_score(y_SR, prediction)\n",
    "    testRecall = recall_score(y_SR, prediction)\n",
    "    print(\"Accuracy: %.2f, Precision: %.2f, Recall: %.2f\"\n",
    "          % (testAccuracy, testPrecision, testRecall))"
   ]
  },
  {
   "cell_type": "markdown",
   "metadata": {},
   "source": [
    "## END"
   ]
  },
  {
   "cell_type": "code",
   "execution_count": 19,
   "metadata": {
    "collapsed": false
   },
   "outputs": [
    {
     "data": {
      "text/plain": [
       "array([ 2846.])"
      ]
     },
     "execution_count": 19,
     "metadata": {},
     "output_type": "execute_result"
    }
   ],
   "source": [
    "sum(prediction)"
   ]
  },
  {
   "cell_type": "code",
   "execution_count": 20,
   "metadata": {
    "collapsed": false
   },
   "outputs": [
    {
     "data": {
      "text/plain": [
       "(13223,)"
      ]
     },
     "execution_count": 20,
     "metadata": {},
     "output_type": "execute_result"
    }
   ],
   "source": [
    "y_SR.shape"
   ]
  },
  {
   "cell_type": "code",
   "execution_count": null,
   "metadata": {
    "collapsed": true
   },
   "outputs": [],
   "source": [
    "plt.hist(X_sub[:,78],range=(-3,3))"
   ]
  },
  {
   "cell_type": "code",
   "execution_count": null,
   "metadata": {
    "collapsed": true
   },
   "outputs": [],
   "source": []
  }
 ],
 "metadata": {
  "kernelspec": {
   "display_name": "Python 2",
   "language": "python",
   "name": "python2"
  },
  "language_info": {
   "codemirror_mode": {
    "name": "ipython",
    "version": 2
   },
   "file_extension": ".py",
   "mimetype": "text/x-python",
   "name": "python",
   "nbconvert_exporter": "python",
   "pygments_lexer": "ipython2",
   "version": "2.7.10"
  }
 },
 "nbformat": 4,
 "nbformat_minor": 0
}
